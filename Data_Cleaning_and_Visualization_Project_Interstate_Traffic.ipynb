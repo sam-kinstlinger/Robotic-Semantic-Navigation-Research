{
  "nbformat": 4,
  "nbformat_minor": 0,
  "metadata": {
    "colab": {
      "provenance": [],
      "authorship_tag": "ABX9TyM2X9GapPH8M76N1gMxbxD+",
      "include_colab_link": true
    },
    "kernelspec": {
      "name": "python3",
      "display_name": "Python 3"
    },
    "language_info": {
      "name": "python"
    }
  },
  "cells": [
    {
      "cell_type": "markdown",
      "metadata": {
        "id": "view-in-github",
        "colab_type": "text"
      },
      "source": [
        "<a href=\"https://colab.research.google.com/github/Supersamk13/AI4ALL/blob/main/Data_Cleaning_and_Visualization_Project_Interstate_Traffic.ipynb\" target=\"_parent\"><img src=\"https://colab.research.google.com/assets/colab-badge.svg\" alt=\"Open In Colab\"/></a>"
      ]
    },
    {
      "cell_type": "code",
      "source": [
        "import pandas as pd"
      ],
      "metadata": {
        "id": "vK9cu4zUI04A"
      },
      "execution_count": 1,
      "outputs": []
    },
    {
      "cell_type": "code",
      "source": [
        "df=pd.read_csv('/content/Metro_Interstate_Traffic_Volume.csv[1].gz')"
      ],
      "metadata": {
        "id": "sXOMpJUCI2I_"
      },
      "execution_count": 2,
      "outputs": []
    },
    {
      "cell_type": "code",
      "source": [
        "print(df.head())"
      ],
      "metadata": {
        "colab": {
          "base_uri": "https://localhost:8080/"
        },
        "id": "iDFKiyooI4xJ",
        "outputId": "34d9dc2a-998f-42e4-a1ce-0c3d071bd426"
      },
      "execution_count": 3,
      "outputs": [
        {
          "output_type": "stream",
          "name": "stdout",
          "text": [
            "  holiday    temp  rain_1h  snow_1h  clouds_all weather_main  \\\n",
            "0    None  288.28      0.0      0.0          40       Clouds   \n",
            "1    None  289.36      0.0      0.0          75       Clouds   \n",
            "2    None  289.58      0.0      0.0          90       Clouds   \n",
            "3    None  290.13      0.0      0.0          90       Clouds   \n",
            "4    None  291.14      0.0      0.0          75       Clouds   \n",
            "\n",
            "  weather_description            date_time  traffic_volume  \n",
            "0    scattered clouds  2012-10-02 09:00:00            5545  \n",
            "1       broken clouds  2012-10-02 10:00:00            4516  \n",
            "2     overcast clouds  2012-10-02 11:00:00            4767  \n",
            "3     overcast clouds  2012-10-02 12:00:00            5026  \n",
            "4       broken clouds  2012-10-02 13:00:00            4918  \n"
          ]
        }
      ]
    }
  ]
}